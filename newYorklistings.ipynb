{
 "cells": [
  {
   "cell_type": "code",
   "execution_count": 102,
   "metadata": {
    "scrolled": true
   },
   "outputs": [],
   "source": [
    "from bs4 import BeautifulSoup as bs4  #webscraping module \n",
    "import requests  # get content from the url\n",
    "import pandas as pd  # convert data to excel etc...\n",
    "import json\n",
    "import re\n",
    "\n",
    "\n",
    "url = [\"https://streeteasy.com/building/10-hanover-square-new_york\"] #https://streeteasy.com/building/63-wall-street-new_york\"]\n",
    "unit = [] \n",
    "prices = [] \n",
    "SQF = [] \n",
    "priceSQF = []\n",
    "Floor = []\n",
    "room = []\n",
    "\n",
    "\n",
    "for item in url: \n",
    "    page = requests.get(item)\n",
    "    soup = bs4(page.text, 'html.parser')\n",
    "#     print(soup.prettify())\n",
    "\n",
    "    for i in soup.findAll('div', class_='ActiveListingsUnit-itemPrice'):\n",
    "        price = i.getText()\n",
    "        cleanPrice = re.sub(\"\\D\", \"\", price)\n",
    "        prices.append(cleanPrice)\n",
    "        continue\n",
    "    for a in soup.findAll('a', class_='ActiveListingsUnit-address'):\n",
    "        u = a.getText()\n",
    "        unit.append(u)\n",
    "#     print(unit)\n",
    "    for b in soup.findAll('div', class_='ActiveListingsUnit-itemProperties'):\n",
    "        r = b.getText()\n",
    "        cleanRoom = re.sub('\\W', '', r)\n",
    "        room.append(cleanRoom)\n",
    "    for c in soup.findAll('td', class_='hidden-xs BuildingUnit-square'):\n",
    "        q = c.getText()\n",
    "        cleanq = re.sub('\\D', '', q)\n",
    "        SQF.append(cleanq)\n",
    "for \n",
    "       \n",
    "           \n",
    "\n",
    "        \n",
    "\n",
    "    \n",
    "    \n"
   ]
  },
  {
   "cell_type": "code",
   "execution_count": 103,
   "metadata": {},
   "outputs": [
    {
     "data": {
      "text/plain": [
       "{'Unit': ['#2E - 10 Hanover Sq',\n",
       "  '#6H - 10 Hanover Sq',\n",
       "  '#8L - 10 Hanover Sq',\n",
       "  '#6G - 10 Hanover Square',\n",
       "  '#16F - 10 Hanover Square',\n",
       "  '#7I - 10 Hanover Square',\n",
       "  '#20H - 10 Hanover Square',\n",
       "  '#18L - 10 Hanover Square',\n",
       "  '#7K - 10 Hanover Square',\n",
       "  '#15Y - 10 Hanover Square',\n",
       "  '#6R - 10 Hanover Square',\n",
       "  '#14R - 10 Hanover Square',\n",
       "  '#16X - 10 Hanover Square'],\n",
       " 'Prices': ['6950',\n",
       "  '5700',\n",
       "  '5600',\n",
       "  '4922',\n",
       "  '4802',\n",
       "  '4468',\n",
       "  '4129',\n",
       "  '3991',\n",
       "  '3526',\n",
       "  '3459',\n",
       "  '3392',\n",
       "  '3265',\n",
       "  '3093'],\n",
       " 'Room': ['1bed1bath',\n",
       "  '1bed1bath',\n",
       "  '1bed1bath',\n",
       "  '1bed1bath',\n",
       "  '1bed1bath',\n",
       "  '1bed1bath',\n",
       "  '1bed1bath',\n",
       "  '1bed1bath',\n",
       "  'studio1bath',\n",
       "  'studio1bath',\n",
       "  'studio1bath',\n",
       "  '1bed1bath',\n",
       "  'studio1bath'],\n",
       " 'SqureF': ['782',\n",
       "  '665',\n",
       "  '667',\n",
       "  '738',\n",
       "  '781',\n",
       "  '833',\n",
       "  '665',\n",
       "  '667',\n",
       "  '677',\n",
       "  '582',\n",
       "  '560',\n",
       "  '560',\n",
       "  '431']}"
      ]
     },
     "execution_count": 103,
     "metadata": {},
     "output_type": "execute_result"
    }
   ],
   "source": [
    "data ={'Unit': unit,'Prices': prices, 'Room':room, 'SqureF':SQF}\n",
    "data"
   ]
  },
  {
   "cell_type": "code",
   "execution_count": 104,
   "metadata": {},
   "outputs": [],
   "source": [
    "new = []\n",
    "\n",
    "for x in room:\n",
    "    n = re.sub(r'\\W', '',x)\n",
    "\n",
    "    new.append(n)\n",
    "\n"
   ]
  },
  {
   "cell_type": "code",
   "execution_count": 105,
   "metadata": {},
   "outputs": [
    {
     "data": {
      "text/plain": [
       "['782',\n",
       " '665',\n",
       " '667',\n",
       " '738',\n",
       " '781',\n",
       " '833',\n",
       " '665',\n",
       " '667',\n",
       " '677',\n",
       " '582',\n",
       " '560',\n",
       " '560',\n",
       " '431']"
      ]
     },
     "execution_count": 105,
     "metadata": {},
     "output_type": "execute_result"
    }
   ],
   "source": [
    "SQF"
   ]
  },
  {
   "cell_type": "code",
   "execution_count": null,
   "metadata": {},
   "outputs": [],
   "source": []
  }
 ],
 "metadata": {
  "kernelspec": {
   "display_name": "Python 3",
   "language": "python",
   "name": "python3"
  },
  "language_info": {
   "codemirror_mode": {
    "name": "ipython",
    "version": 3
   },
   "file_extension": ".py",
   "mimetype": "text/x-python",
   "name": "python",
   "nbconvert_exporter": "python",
   "pygments_lexer": "ipython3",
   "version": "3.7.3"
  }
 },
 "nbformat": 4,
 "nbformat_minor": 2
}
