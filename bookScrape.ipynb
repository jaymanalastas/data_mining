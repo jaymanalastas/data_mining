{
 "cells": [
  {
   "cell_type": "code",
   "execution_count": 34,
   "metadata": {},
   "outputs": [],
   "source": [
    "from bs4 import BeautifulSoup as bs4  #webscraping module \n",
    "import requests  # get content from the url\n",
    "import pandas as pd  # convert data to excel etc...\n",
    "pages = [] \n",
    "prices = [] \n",
    "stars = [] \n",
    "titles = []\n",
    "urlss = []\n",
    "\n",
    "pages_to_scrape= 2    #number of pages to be scraped\n",
    "for i in range(1, pages_to_scrape+1):  #creates a range\n",
    "    url = ('http://books.toscrape.com/catalogue/page-{}.html'.format(i))\n",
    "    pages.append(url)\n",
    "for item in pages:  #for loop for items in 'pages'\n",
    "    page = requests.get(item)  # take all the content from page 1 to n, and store it to page \n",
    "    soup = bs4(page.text, 'html.parser') # took all the raw data and converted it into (doctype: html) and store it to soup\n",
    "#     print(soup.prettify())\n",
    "    for i in soup.findAll('h3'): # for loop for each h3 tag in our soup. our title is in a nested tag\n",
    "        ttl = i.getText() # this isolates the text\n",
    "        titles.append(ttl)\n",
    "    for j in soup.findAll('p', class_='price_color'):\n",
    "        price = j.getText()\n",
    "        prices.append(price)\n",
    "#         print(price)\n",
    "    for s in soup.findAll('p', class_='star-rating'): # star data is in class: treat data as a dictionary and scrape it that way.\n",
    "        for k,v in s.attrs.items():\n",
    "            star = v[1]\n",
    "            stars.append(star)\n",
    "    divs = soup.findAll('div', class_= 'image_container')\n",
    "    for thumbs in divs:\n",
    "        tgs = thumbs.find('img',class_= 'thumbnail')\n",
    "        urls='http://books.toscrape.com/'+str(tgs['src'])\n",
    "        newurls = urls.replace('../','')\n",
    "        urlss.append(newurls)\n",
    "    \n"
   ]
  },
  {
   "cell_type": "code",
   "execution_count": 35,
   "metadata": {},
   "outputs": [],
   "source": [
    "data ={'Titles': titles,'Prices': prices, 'Stars' : stars, 'URLs':urlss}\n"
   ]
  },
  {
   "cell_type": "code",
   "execution_count": 36,
   "metadata": {},
   "outputs": [],
   "source": [
    "df = pd.DataFrame(data=data)\n",
    "df.index+=1"
   ]
  },
  {
   "cell_type": "code",
   "execution_count": 37,
   "metadata": {},
   "outputs": [],
   "source": [
    "df.to_excel(\"C:/Users/14078/PycharmProjects/Data_Mining/output.xlsx\")"
   ]
  },
  {
   "cell_type": "code",
   "execution_count": null,
   "metadata": {},
   "outputs": [],
   "source": []
  },
  {
   "cell_type": "code",
   "execution_count": 38,
   "metadata": {},
   "outputs": [
    {
     "ename": "SyntaxError",
     "evalue": "invalid syntax (<ipython-input-38-916d57522bdd>, line 1)",
     "output_type": "error",
     "traceback": [
      "\u001b[1;36m  File \u001b[1;32m\"<ipython-input-38-916d57522bdd>\"\u001b[1;36m, line \u001b[1;32m1\u001b[0m\n\u001b[1;33m    is.alpha('\\n $6,950\\n \\n\\nNO FEE\\n\\n\\n')\u001b[0m\n\u001b[1;37m     ^\u001b[0m\n\u001b[1;31mSyntaxError\u001b[0m\u001b[1;31m:\u001b[0m invalid syntax\n"
     ]
    }
   ],
   "source": [
    "is.('\\n $6,950\\n \\n\\nNO FEE\\n\\n\\n')"
   ]
  },
  {
   "cell_type": "code",
   "execution_count": null,
   "metadata": {},
   "outputs": [],
   "source": []
  }
 ],
 "metadata": {
  "kernelspec": {
   "display_name": "Python 3",
   "language": "python",
   "name": "python3"
  },
  "language_info": {
   "codemirror_mode": {
    "name": "ipython",
    "version": 3
   },
   "file_extension": ".py",
   "mimetype": "text/x-python",
   "name": "python",
   "nbconvert_exporter": "python",
   "pygments_lexer": "ipython3",
   "version": "3.7.3"
  }
 },
 "nbformat": 4,
 "nbformat_minor": 2
}
